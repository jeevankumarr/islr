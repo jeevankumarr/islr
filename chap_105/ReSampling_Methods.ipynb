{
 "cells": [
  {
   "cell_type": "markdown",
   "metadata": {},
   "source": [
    "# Introduction"
   ]
  },
  {
   "cell_type": "markdown",
   "metadata": {},
   "source": [
    "# Statistical Learning"
   ]
  },
  {
   "cell_type": "markdown",
   "metadata": {},
   "source": [
    "# Linear Regression"
   ]
  },
  {
   "cell_type": "markdown",
   "metadata": {},
   "source": [
    "# Classification"
   ]
  },
  {
   "cell_type": "markdown",
   "metadata": {},
   "source": [
    "# Re-sampling Methods"
   ]
  },
  {
   "cell_type": "markdown",
   "metadata": {},
   "source": [
    "## Cross-Validation"
   ]
  },
  {
   "cell_type": "markdown",
   "metadata": {
    "heading_collapsed": true
   },
   "source": [
    "### Validation Set Approach"
   ]
  },
  {
   "cell_type": "markdown",
   "metadata": {},
   "source": [
    "### Leave-one-out cross-validation"
   ]
  },
  {
   "cell_type": "markdown",
   "metadata": {},
   "source": [
    "### k-Fold Cross-validation"
   ]
  },
  {
   "cell_type": "markdown",
   "metadata": {},
   "source": [
    "### Bias-Variance Trade-Off for k-fold Cross-Validation"
   ]
  },
  {
   "cell_type": "markdown",
   "metadata": {},
   "source": [
    "### Cross-Validation on Classification Problems"
   ]
  },
  {
   "cell_type": "markdown",
   "metadata": {},
   "source": [
    "## The Bootstrap"
   ]
  },
  {
   "cell_type": "code",
   "execution_count": null,
   "metadata": {},
   "outputs": [],
   "source": []
  },
  {
   "cell_type": "code",
   "execution_count": 132,
   "metadata": {
    "ExecuteTime": {
     "end_time": "2018-02-25T08:47:39.465437Z",
     "start_time": "2018-02-25T08:47:39.444430Z"
    }
   },
   "outputs": [
    {
     "data": {
      "text/html": [
       "<script>requirejs.config({paths: { 'plotly': ['https://cdn.plot.ly/plotly-latest.min']},});if(!window.Plotly) {{require(['plotly'],function(plotly) {window.Plotly=plotly;});}}</script>"
      ],
      "text/vnd.plotly.v1+html": [
       "<script>requirejs.config({paths: { 'plotly': ['https://cdn.plot.ly/plotly-latest.min']},});if(!window.Plotly) {{require(['plotly'],function(plotly) {window.Plotly=plotly;});}}</script>"
      ]
     },
     "metadata": {},
     "output_type": "display_data"
    }
   ],
   "source": [
    "import pandas as pd\n",
    "import plotly.offline as py\n",
    "import plotly.graph_objs as go\n",
    "import numpy as np\n",
    "import statsmodels.api as sm\n",
    "from sklearn import linear_model\n",
    "import matplotlib.pyplot as plt\n",
    "from sklearn.cross_validation import train_test_split\n",
    "import random\n",
    "random.seed(1)\n",
    "%matplotlib inline\n",
    "pd.options.display.max_rows = 9999999\n",
    "\n",
    "py.init_notebook_mode(connected=True)\n",
    "\n",
    "def get_mape(predictions, y):\n",
    "    ape = []\n",
    "    for p_i,y_i in zip(predictions, y):\n",
    "        #print(p_i, y_i)\n",
    "        t = abs(p_i-y_i)/p_i\n",
    "        ape.append(t)\n",
    "\n",
    "    mape = np.mean(ape)\n",
    "    return mape\n",
    "\n"
   ]
  },
  {
   "cell_type": "markdown",
   "metadata": {},
   "source": [
    "## Lab"
   ]
  },
  {
   "cell_type": "markdown",
   "metadata": {},
   "source": [
    "### Validation Set Approach"
   ]
  },
  {
   "cell_type": "code",
   "execution_count": 23,
   "metadata": {
    "ExecuteTime": {
     "end_time": "2018-02-25T07:19:39.467344Z",
     "start_time": "2018-02-25T07:19:39.439534Z"
    }
   },
   "outputs": [
    {
     "data": {
      "text/html": [
       "<div>\n",
       "<style scoped>\n",
       "    .dataframe tbody tr th:only-of-type {\n",
       "        vertical-align: middle;\n",
       "    }\n",
       "\n",
       "    .dataframe tbody tr th {\n",
       "        vertical-align: top;\n",
       "    }\n",
       "\n",
       "    .dataframe thead th {\n",
       "        text-align: right;\n",
       "    }\n",
       "</style>\n",
       "<table border=\"1\" class=\"dataframe\">\n",
       "  <thead>\n",
       "    <tr style=\"text-align: right;\">\n",
       "      <th></th>\n",
       "      <th>mpg</th>\n",
       "      <th>cylinders</th>\n",
       "      <th>displacement</th>\n",
       "      <th>horsepower</th>\n",
       "      <th>weight</th>\n",
       "      <th>acceleration</th>\n",
       "      <th>year</th>\n",
       "      <th>origin</th>\n",
       "      <th>name</th>\n",
       "    </tr>\n",
       "  </thead>\n",
       "  <tbody>\n",
       "    <tr>\n",
       "      <th>0</th>\n",
       "      <td>18.0</td>\n",
       "      <td>8</td>\n",
       "      <td>307.0</td>\n",
       "      <td>130</td>\n",
       "      <td>3504</td>\n",
       "      <td>12.0</td>\n",
       "      <td>70</td>\n",
       "      <td>1</td>\n",
       "      <td>chevrolet chevelle malibu</td>\n",
       "    </tr>\n",
       "    <tr>\n",
       "      <th>1</th>\n",
       "      <td>15.0</td>\n",
       "      <td>8</td>\n",
       "      <td>350.0</td>\n",
       "      <td>165</td>\n",
       "      <td>3693</td>\n",
       "      <td>11.5</td>\n",
       "      <td>70</td>\n",
       "      <td>1</td>\n",
       "      <td>buick skylark 320</td>\n",
       "    </tr>\n",
       "    <tr>\n",
       "      <th>2</th>\n",
       "      <td>18.0</td>\n",
       "      <td>8</td>\n",
       "      <td>318.0</td>\n",
       "      <td>150</td>\n",
       "      <td>3436</td>\n",
       "      <td>11.0</td>\n",
       "      <td>70</td>\n",
       "      <td>1</td>\n",
       "      <td>plymouth satellite</td>\n",
       "    </tr>\n",
       "    <tr>\n",
       "      <th>3</th>\n",
       "      <td>16.0</td>\n",
       "      <td>8</td>\n",
       "      <td>304.0</td>\n",
       "      <td>150</td>\n",
       "      <td>3433</td>\n",
       "      <td>12.0</td>\n",
       "      <td>70</td>\n",
       "      <td>1</td>\n",
       "      <td>amc rebel sst</td>\n",
       "    </tr>\n",
       "    <tr>\n",
       "      <th>4</th>\n",
       "      <td>17.0</td>\n",
       "      <td>8</td>\n",
       "      <td>302.0</td>\n",
       "      <td>140</td>\n",
       "      <td>3449</td>\n",
       "      <td>10.5</td>\n",
       "      <td>70</td>\n",
       "      <td>1</td>\n",
       "      <td>ford torino</td>\n",
       "    </tr>\n",
       "  </tbody>\n",
       "</table>\n",
       "</div>"
      ],
      "text/plain": [
       "    mpg  cylinders  displacement horsepower  weight  acceleration  year  \\\n",
       "0  18.0          8         307.0        130    3504          12.0    70   \n",
       "1  15.0          8         350.0        165    3693          11.5    70   \n",
       "2  18.0          8         318.0        150    3436          11.0    70   \n",
       "3  16.0          8         304.0        150    3433          12.0    70   \n",
       "4  17.0          8         302.0        140    3449          10.5    70   \n",
       "\n",
       "   origin                       name  \n",
       "0       1  chevrolet chevelle malibu  \n",
       "1       1          buick skylark 320  \n",
       "2       1         plymouth satellite  \n",
       "3       1              amc rebel sst  \n",
       "4       1                ford torino  "
      ]
     },
     "execution_count": 23,
     "metadata": {},
     "output_type": "execute_result"
    }
   ],
   "source": [
    "auto_data = pd.read_csv(\"../data/Auto.csv\")\n",
    "auto_data.head()"
   ]
  },
  {
   "cell_type": "code",
   "execution_count": 40,
   "metadata": {
    "ExecuteTime": {
     "end_time": "2018-02-25T07:23:27.040048Z",
     "start_time": "2018-02-25T07:23:27.032656Z"
    }
   },
   "outputs": [],
   "source": [
    "auto_data[\"horsepower\"] = pd.to_numeric(auto_data[\"horsepower\"], errors=\"coerce\")\n",
    "auto_data[\"horsepower^2\"] = auto_data[\"horsepower\"] * auto_data[\"horsepower\"]\n",
    "auto_data[\"horsepower^3\"] = auto_data[\"horsepower\"] * auto_data[\"horsepower\"] * auto_data[\"horsepower\"]"
   ]
  },
  {
   "cell_type": "code",
   "execution_count": 45,
   "metadata": {
    "ExecuteTime": {
     "end_time": "2018-02-25T07:24:53.082689Z",
     "start_time": "2018-02-25T07:24:53.063818Z"
    }
   },
   "outputs": [
    {
     "data": {
      "application/vnd.plotly.v1+json": {
       "data": [
        {
         "mode": "markers",
         "type": "scatter",
         "x": [
          130,
          165,
          150,
          150,
          140,
          198,
          220,
          215,
          225,
          190,
          170,
          160,
          150,
          225,
          95,
          95,
          97,
          85,
          88,
          46,
          87,
          90,
          95,
          113,
          90,
          215,
          200,
          210,
          193,
          88,
          90,
          95,
          null,
          100,
          105,
          100,
          88,
          100,
          165,
          175,
          153,
          150,
          180,
          170,
          175,
          110,
          72,
          100,
          88,
          86,
          90,
          70,
          76,
          65,
          69,
          60,
          70,
          95,
          80,
          54,
          90,
          86,
          165,
          175,
          150,
          153,
          150,
          208,
          155,
          160,
          190,
          97,
          150,
          130,
          140,
          150,
          112,
          76,
          87,
          69,
          86,
          92,
          97,
          80,
          88,
          175,
          150,
          145,
          137,
          150,
          198,
          150,
          158,
          150,
          215,
          225,
          175,
          105,
          100,
          100,
          88,
          95,
          46,
          150,
          167,
          170,
          180,
          100,
          88,
          72,
          94,
          90,
          85,
          107,
          90,
          145,
          230,
          49,
          75,
          91,
          112,
          150,
          110,
          122,
          180,
          95,
          null,
          100,
          100,
          67,
          80,
          65,
          75,
          100,
          110,
          105,
          140,
          150,
          150,
          140,
          150,
          83,
          67,
          78,
          52,
          61,
          75,
          75,
          75,
          97,
          93,
          67,
          95,
          105,
          72,
          72,
          170,
          145,
          150,
          148,
          110,
          105,
          110,
          95,
          110,
          110,
          129,
          75,
          83,
          100,
          78,
          96,
          71,
          97,
          97,
          70,
          90,
          95,
          88,
          98,
          115,
          53,
          86,
          81,
          92,
          79,
          83,
          140,
          150,
          120,
          152,
          100,
          105,
          81,
          90,
          52,
          60,
          70,
          53,
          100,
          78,
          110,
          95,
          71,
          70,
          75,
          72,
          102,
          150,
          88,
          108,
          120,
          180,
          145,
          130,
          150,
          68,
          80,
          58,
          96,
          70,
          145,
          110,
          145,
          130,
          110,
          105,
          100,
          98,
          180,
          170,
          190,
          149,
          78,
          88,
          75,
          89,
          63,
          83,
          67,
          78,
          97,
          110,
          110,
          48,
          66,
          52,
          70,
          60,
          110,
          140,
          139,
          105,
          95,
          85,
          88,
          100,
          90,
          105,
          85,
          110,
          120,
          145,
          165,
          139,
          140,
          68,
          95,
          97,
          75,
          95,
          105,
          85,
          97,
          103,
          125,
          115,
          133,
          71,
          68,
          115,
          85,
          88,
          90,
          110,
          130,
          129,
          138,
          135,
          155,
          142,
          125,
          150,
          71,
          65,
          80,
          80,
          77,
          125,
          71,
          90,
          70,
          70,
          65,
          69,
          90,
          115,
          115,
          90,
          76,
          60,
          70,
          65,
          90,
          88,
          90,
          90,
          78,
          90,
          75,
          92,
          75,
          65,
          105,
          65,
          48,
          48,
          67,
          67,
          67,
          null,
          67,
          62,
          132,
          100,
          88,
          null,
          72,
          84,
          84,
          92,
          110,
          84,
          58,
          64,
          60,
          67,
          65,
          62,
          68,
          63,
          65,
          65,
          74,
          null,
          75,
          75,
          100,
          74,
          80,
          76,
          116,
          120,
          110,
          105,
          88,
          85,
          88,
          88,
          88,
          85,
          84,
          90,
          92,
          74,
          68,
          68,
          63,
          70,
          88,
          75,
          70,
          67,
          67,
          67,
          110,
          85,
          92,
          112,
          96,
          84,
          90,
          86,
          52,
          84,
          79,
          82
         ],
         "y": [
          18,
          15,
          18,
          16,
          17,
          15,
          14,
          14,
          14,
          15,
          15,
          14,
          15,
          14,
          24,
          22,
          18,
          21,
          27,
          26,
          25,
          24,
          25,
          26,
          21,
          10,
          10,
          11,
          9,
          27,
          28,
          25,
          25,
          19,
          16,
          17,
          19,
          18,
          14,
          14,
          14,
          14,
          12,
          13,
          13,
          18,
          22,
          19,
          18,
          23,
          28,
          30,
          30,
          31,
          35,
          27,
          26,
          24,
          25,
          23,
          20,
          21,
          13,
          14,
          15,
          14,
          17,
          11,
          13,
          12,
          13,
          19,
          15,
          13,
          13,
          14,
          18,
          22,
          21,
          26,
          22,
          28,
          23,
          28,
          27,
          13,
          14,
          13,
          14,
          15,
          12,
          13,
          13,
          14,
          13,
          12,
          13,
          18,
          16,
          18,
          18,
          23,
          26,
          11,
          12,
          13,
          12,
          18,
          20,
          21,
          22,
          18,
          19,
          21,
          26,
          15,
          16,
          29,
          24,
          20,
          19,
          15,
          24,
          20,
          11,
          20,
          21,
          19,
          15,
          31,
          26,
          32,
          25,
          16,
          16,
          18,
          16,
          13,
          14,
          14,
          14,
          29,
          26,
          26,
          31,
          32,
          28,
          24,
          26,
          24,
          26,
          31,
          19,
          18,
          15,
          15,
          16,
          15,
          16,
          14,
          17,
          16,
          15,
          18,
          21,
          20,
          13,
          29,
          23,
          20,
          23,
          24,
          25,
          24,
          18,
          29,
          19,
          23,
          23,
          22,
          25,
          33,
          28,
          25,
          25,
          26,
          27,
          17.5,
          16,
          15.5,
          14.5,
          22,
          22,
          24,
          22.5,
          29,
          24.5,
          29,
          33,
          20,
          18,
          18.5,
          17.5,
          29.5,
          32,
          28,
          26.5,
          20,
          13,
          19,
          19,
          16.5,
          16.5,
          13,
          13,
          13,
          31.5,
          30,
          36,
          25.5,
          33.5,
          17.5,
          17,
          15.5,
          15,
          17.5,
          20.5,
          19,
          18.5,
          16,
          15.5,
          15.5,
          16,
          29,
          24.5,
          26,
          25.5,
          30.5,
          33.5,
          30,
          30.5,
          22,
          21.5,
          21.5,
          43.1,
          36.1,
          32.8,
          39.4,
          36.1,
          19.9,
          19.4,
          20.2,
          19.2,
          20.5,
          20.2,
          25.1,
          20.5,
          19.4,
          20.6,
          20.8,
          18.6,
          18.1,
          19.2,
          17.7,
          18.1,
          17.5,
          30,
          27.5,
          27.2,
          30.9,
          21.1,
          23.2,
          23.8,
          23.9,
          20.3,
          17,
          21.6,
          16.2,
          31.5,
          29.5,
          21.5,
          19.8,
          22.3,
          20.2,
          20.6,
          17,
          17.6,
          16.5,
          18.2,
          16.9,
          15.5,
          19.2,
          18.5,
          31.9,
          34.1,
          35.7,
          27.4,
          25.4,
          23,
          27.2,
          23.9,
          34.2,
          34.5,
          31.8,
          37.3,
          28.4,
          28.8,
          26.8,
          33.5,
          41.5,
          38.1,
          32.1,
          37.2,
          28,
          26.4,
          24.3,
          19.1,
          34.3,
          29.8,
          31.3,
          37,
          32.2,
          46.6,
          27.9,
          40.8,
          44.3,
          43.4,
          36.4,
          30,
          44.6,
          40.9,
          33.8,
          29.8,
          32.7,
          23.7,
          35,
          23.6,
          32.4,
          27.2,
          26.6,
          25.8,
          23.5,
          30,
          39.1,
          39,
          35.1,
          32.3,
          37,
          37.7,
          34.1,
          34.7,
          34.4,
          29.9,
          33,
          34.5,
          33.7,
          32.4,
          32.9,
          31.6,
          28.1,
          30.7,
          25.4,
          24.2,
          22.4,
          26.6,
          20.2,
          17.6,
          28,
          27,
          34,
          31,
          29,
          27,
          24,
          36,
          37,
          31,
          38,
          36,
          36,
          36,
          34,
          38,
          32,
          38,
          25,
          38,
          26,
          22,
          32,
          36,
          27,
          27,
          44,
          32,
          28,
          31
         ]
        }
       ],
       "layout": {}
      },
      "text/html": [
       "<div id=\"8e21711e-3c81-49d9-b84c-129dc65e777c\" style=\"height: 525px; width: 100%;\" class=\"plotly-graph-div\"></div><script type=\"text/javascript\">require([\"plotly\"], function(Plotly) { window.PLOTLYENV=window.PLOTLYENV || {};window.PLOTLYENV.BASE_URL=\"https://plot.ly\";Plotly.newPlot(\"8e21711e-3c81-49d9-b84c-129dc65e777c\", [{\"y\": [18.0, 15.0, 18.0, 16.0, 17.0, 15.0, 14.0, 14.0, 14.0, 15.0, 15.0, 14.0, 15.0, 14.0, 24.0, 22.0, 18.0, 21.0, 27.0, 26.0, 25.0, 24.0, 25.0, 26.0, 21.0, 10.0, 10.0, 11.0, 9.0, 27.0, 28.0, 25.0, 25.0, 19.0, 16.0, 17.0, 19.0, 18.0, 14.0, 14.0, 14.0, 14.0, 12.0, 13.0, 13.0, 18.0, 22.0, 19.0, 18.0, 23.0, 28.0, 30.0, 30.0, 31.0, 35.0, 27.0, 26.0, 24.0, 25.0, 23.0, 20.0, 21.0, 13.0, 14.0, 15.0, 14.0, 17.0, 11.0, 13.0, 12.0, 13.0, 19.0, 15.0, 13.0, 13.0, 14.0, 18.0, 22.0, 21.0, 26.0, 22.0, 28.0, 23.0, 28.0, 27.0, 13.0, 14.0, 13.0, 14.0, 15.0, 12.0, 13.0, 13.0, 14.0, 13.0, 12.0, 13.0, 18.0, 16.0, 18.0, 18.0, 23.0, 26.0, 11.0, 12.0, 13.0, 12.0, 18.0, 20.0, 21.0, 22.0, 18.0, 19.0, 21.0, 26.0, 15.0, 16.0, 29.0, 24.0, 20.0, 19.0, 15.0, 24.0, 20.0, 11.0, 20.0, 21.0, 19.0, 15.0, 31.0, 26.0, 32.0, 25.0, 16.0, 16.0, 18.0, 16.0, 13.0, 14.0, 14.0, 14.0, 29.0, 26.0, 26.0, 31.0, 32.0, 28.0, 24.0, 26.0, 24.0, 26.0, 31.0, 19.0, 18.0, 15.0, 15.0, 16.0, 15.0, 16.0, 14.0, 17.0, 16.0, 15.0, 18.0, 21.0, 20.0, 13.0, 29.0, 23.0, 20.0, 23.0, 24.0, 25.0, 24.0, 18.0, 29.0, 19.0, 23.0, 23.0, 22.0, 25.0, 33.0, 28.0, 25.0, 25.0, 26.0, 27.0, 17.5, 16.0, 15.5, 14.5, 22.0, 22.0, 24.0, 22.5, 29.0, 24.5, 29.0, 33.0, 20.0, 18.0, 18.5, 17.5, 29.5, 32.0, 28.0, 26.5, 20.0, 13.0, 19.0, 19.0, 16.5, 16.5, 13.0, 13.0, 13.0, 31.5, 30.0, 36.0, 25.5, 33.5, 17.5, 17.0, 15.5, 15.0, 17.5, 20.5, 19.0, 18.5, 16.0, 15.5, 15.5, 16.0, 29.0, 24.5, 26.0, 25.5, 30.5, 33.5, 30.0, 30.5, 22.0, 21.5, 21.5, 43.1, 36.1, 32.8, 39.4, 36.1, 19.9, 19.4, 20.2, 19.2, 20.5, 20.2, 25.1, 20.5, 19.4, 20.6, 20.8, 18.6, 18.1, 19.2, 17.7, 18.1, 17.5, 30.0, 27.5, 27.2, 30.9, 21.1, 23.2, 23.8, 23.9, 20.3, 17.0, 21.6, 16.2, 31.5, 29.5, 21.5, 19.8, 22.3, 20.2, 20.6, 17.0, 17.6, 16.5, 18.2, 16.9, 15.5, 19.2, 18.5, 31.9, 34.1, 35.7, 27.4, 25.4, 23.0, 27.2, 23.9, 34.2, 34.5, 31.8, 37.3, 28.4, 28.8, 26.8, 33.5, 41.5, 38.1, 32.1, 37.2, 28.0, 26.4, 24.3, 19.1, 34.3, 29.8, 31.3, 37.0, 32.2, 46.6, 27.9, 40.8, 44.3, 43.4, 36.4, 30.0, 44.6, 40.9, 33.8, 29.8, 32.7, 23.7, 35.0, 23.6, 32.4, 27.2, 26.6, 25.8, 23.5, 30.0, 39.1, 39.0, 35.1, 32.3, 37.0, 37.7, 34.1, 34.7, 34.4, 29.9, 33.0, 34.5, 33.7, 32.4, 32.9, 31.6, 28.1, 30.7, 25.4, 24.2, 22.4, 26.6, 20.2, 17.6, 28.0, 27.0, 34.0, 31.0, 29.0, 27.0, 24.0, 36.0, 37.0, 31.0, 38.0, 36.0, 36.0, 36.0, 34.0, 38.0, 32.0, 38.0, 25.0, 38.0, 26.0, 22.0, 32.0, 36.0, 27.0, 27.0, 44.0, 32.0, 28.0, 31.0], \"x\": [130.0, 165.0, 150.0, 150.0, 140.0, 198.0, 220.0, 215.0, 225.0, 190.0, 170.0, 160.0, 150.0, 225.0, 95.0, 95.0, 97.0, 85.0, 88.0, 46.0, 87.0, 90.0, 95.0, 113.0, 90.0, 215.0, 200.0, 210.0, 193.0, 88.0, 90.0, 95.0, null, 100.0, 105.0, 100.0, 88.0, 100.0, 165.0, 175.0, 153.0, 150.0, 180.0, 170.0, 175.0, 110.0, 72.0, 100.0, 88.0, 86.0, 90.0, 70.0, 76.0, 65.0, 69.0, 60.0, 70.0, 95.0, 80.0, 54.0, 90.0, 86.0, 165.0, 175.0, 150.0, 153.0, 150.0, 208.0, 155.0, 160.0, 190.0, 97.0, 150.0, 130.0, 140.0, 150.0, 112.0, 76.0, 87.0, 69.0, 86.0, 92.0, 97.0, 80.0, 88.0, 175.0, 150.0, 145.0, 137.0, 150.0, 198.0, 150.0, 158.0, 150.0, 215.0, 225.0, 175.0, 105.0, 100.0, 100.0, 88.0, 95.0, 46.0, 150.0, 167.0, 170.0, 180.0, 100.0, 88.0, 72.0, 94.0, 90.0, 85.0, 107.0, 90.0, 145.0, 230.0, 49.0, 75.0, 91.0, 112.0, 150.0, 110.0, 122.0, 180.0, 95.0, null, 100.0, 100.0, 67.0, 80.0, 65.0, 75.0, 100.0, 110.0, 105.0, 140.0, 150.0, 150.0, 140.0, 150.0, 83.0, 67.0, 78.0, 52.0, 61.0, 75.0, 75.0, 75.0, 97.0, 93.0, 67.0, 95.0, 105.0, 72.0, 72.0, 170.0, 145.0, 150.0, 148.0, 110.0, 105.0, 110.0, 95.0, 110.0, 110.0, 129.0, 75.0, 83.0, 100.0, 78.0, 96.0, 71.0, 97.0, 97.0, 70.0, 90.0, 95.0, 88.0, 98.0, 115.0, 53.0, 86.0, 81.0, 92.0, 79.0, 83.0, 140.0, 150.0, 120.0, 152.0, 100.0, 105.0, 81.0, 90.0, 52.0, 60.0, 70.0, 53.0, 100.0, 78.0, 110.0, 95.0, 71.0, 70.0, 75.0, 72.0, 102.0, 150.0, 88.0, 108.0, 120.0, 180.0, 145.0, 130.0, 150.0, 68.0, 80.0, 58.0, 96.0, 70.0, 145.0, 110.0, 145.0, 130.0, 110.0, 105.0, 100.0, 98.0, 180.0, 170.0, 190.0, 149.0, 78.0, 88.0, 75.0, 89.0, 63.0, 83.0, 67.0, 78.0, 97.0, 110.0, 110.0, 48.0, 66.0, 52.0, 70.0, 60.0, 110.0, 140.0, 139.0, 105.0, 95.0, 85.0, 88.0, 100.0, 90.0, 105.0, 85.0, 110.0, 120.0, 145.0, 165.0, 139.0, 140.0, 68.0, 95.0, 97.0, 75.0, 95.0, 105.0, 85.0, 97.0, 103.0, 125.0, 115.0, 133.0, 71.0, 68.0, 115.0, 85.0, 88.0, 90.0, 110.0, 130.0, 129.0, 138.0, 135.0, 155.0, 142.0, 125.0, 150.0, 71.0, 65.0, 80.0, 80.0, 77.0, 125.0, 71.0, 90.0, 70.0, 70.0, 65.0, 69.0, 90.0, 115.0, 115.0, 90.0, 76.0, 60.0, 70.0, 65.0, 90.0, 88.0, 90.0, 90.0, 78.0, 90.0, 75.0, 92.0, 75.0, 65.0, 105.0, 65.0, 48.0, 48.0, 67.0, 67.0, 67.0, null, 67.0, 62.0, 132.0, 100.0, 88.0, null, 72.0, 84.0, 84.0, 92.0, 110.0, 84.0, 58.0, 64.0, 60.0, 67.0, 65.0, 62.0, 68.0, 63.0, 65.0, 65.0, 74.0, null, 75.0, 75.0, 100.0, 74.0, 80.0, 76.0, 116.0, 120.0, 110.0, 105.0, 88.0, 85.0, 88.0, 88.0, 88.0, 85.0, 84.0, 90.0, 92.0, 74.0, 68.0, 68.0, 63.0, 70.0, 88.0, 75.0, 70.0, 67.0, 67.0, 67.0, 110.0, 85.0, 92.0, 112.0, 96.0, 84.0, 90.0, 86.0, 52.0, 84.0, 79.0, 82.0], \"type\": \"scatter\", \"mode\": \"markers\"}], {}, {\"linkText\": \"Export to plot.ly\", \"showLink\": true})});</script>"
      ],
      "text/vnd.plotly.v1+html": [
       "<div id=\"8e21711e-3c81-49d9-b84c-129dc65e777c\" style=\"height: 525px; width: 100%;\" class=\"plotly-graph-div\"></div><script type=\"text/javascript\">require([\"plotly\"], function(Plotly) { window.PLOTLYENV=window.PLOTLYENV || {};window.PLOTLYENV.BASE_URL=\"https://plot.ly\";Plotly.newPlot(\"8e21711e-3c81-49d9-b84c-129dc65e777c\", [{\"y\": [18.0, 15.0, 18.0, 16.0, 17.0, 15.0, 14.0, 14.0, 14.0, 15.0, 15.0, 14.0, 15.0, 14.0, 24.0, 22.0, 18.0, 21.0, 27.0, 26.0, 25.0, 24.0, 25.0, 26.0, 21.0, 10.0, 10.0, 11.0, 9.0, 27.0, 28.0, 25.0, 25.0, 19.0, 16.0, 17.0, 19.0, 18.0, 14.0, 14.0, 14.0, 14.0, 12.0, 13.0, 13.0, 18.0, 22.0, 19.0, 18.0, 23.0, 28.0, 30.0, 30.0, 31.0, 35.0, 27.0, 26.0, 24.0, 25.0, 23.0, 20.0, 21.0, 13.0, 14.0, 15.0, 14.0, 17.0, 11.0, 13.0, 12.0, 13.0, 19.0, 15.0, 13.0, 13.0, 14.0, 18.0, 22.0, 21.0, 26.0, 22.0, 28.0, 23.0, 28.0, 27.0, 13.0, 14.0, 13.0, 14.0, 15.0, 12.0, 13.0, 13.0, 14.0, 13.0, 12.0, 13.0, 18.0, 16.0, 18.0, 18.0, 23.0, 26.0, 11.0, 12.0, 13.0, 12.0, 18.0, 20.0, 21.0, 22.0, 18.0, 19.0, 21.0, 26.0, 15.0, 16.0, 29.0, 24.0, 20.0, 19.0, 15.0, 24.0, 20.0, 11.0, 20.0, 21.0, 19.0, 15.0, 31.0, 26.0, 32.0, 25.0, 16.0, 16.0, 18.0, 16.0, 13.0, 14.0, 14.0, 14.0, 29.0, 26.0, 26.0, 31.0, 32.0, 28.0, 24.0, 26.0, 24.0, 26.0, 31.0, 19.0, 18.0, 15.0, 15.0, 16.0, 15.0, 16.0, 14.0, 17.0, 16.0, 15.0, 18.0, 21.0, 20.0, 13.0, 29.0, 23.0, 20.0, 23.0, 24.0, 25.0, 24.0, 18.0, 29.0, 19.0, 23.0, 23.0, 22.0, 25.0, 33.0, 28.0, 25.0, 25.0, 26.0, 27.0, 17.5, 16.0, 15.5, 14.5, 22.0, 22.0, 24.0, 22.5, 29.0, 24.5, 29.0, 33.0, 20.0, 18.0, 18.5, 17.5, 29.5, 32.0, 28.0, 26.5, 20.0, 13.0, 19.0, 19.0, 16.5, 16.5, 13.0, 13.0, 13.0, 31.5, 30.0, 36.0, 25.5, 33.5, 17.5, 17.0, 15.5, 15.0, 17.5, 20.5, 19.0, 18.5, 16.0, 15.5, 15.5, 16.0, 29.0, 24.5, 26.0, 25.5, 30.5, 33.5, 30.0, 30.5, 22.0, 21.5, 21.5, 43.1, 36.1, 32.8, 39.4, 36.1, 19.9, 19.4, 20.2, 19.2, 20.5, 20.2, 25.1, 20.5, 19.4, 20.6, 20.8, 18.6, 18.1, 19.2, 17.7, 18.1, 17.5, 30.0, 27.5, 27.2, 30.9, 21.1, 23.2, 23.8, 23.9, 20.3, 17.0, 21.6, 16.2, 31.5, 29.5, 21.5, 19.8, 22.3, 20.2, 20.6, 17.0, 17.6, 16.5, 18.2, 16.9, 15.5, 19.2, 18.5, 31.9, 34.1, 35.7, 27.4, 25.4, 23.0, 27.2, 23.9, 34.2, 34.5, 31.8, 37.3, 28.4, 28.8, 26.8, 33.5, 41.5, 38.1, 32.1, 37.2, 28.0, 26.4, 24.3, 19.1, 34.3, 29.8, 31.3, 37.0, 32.2, 46.6, 27.9, 40.8, 44.3, 43.4, 36.4, 30.0, 44.6, 40.9, 33.8, 29.8, 32.7, 23.7, 35.0, 23.6, 32.4, 27.2, 26.6, 25.8, 23.5, 30.0, 39.1, 39.0, 35.1, 32.3, 37.0, 37.7, 34.1, 34.7, 34.4, 29.9, 33.0, 34.5, 33.7, 32.4, 32.9, 31.6, 28.1, 30.7, 25.4, 24.2, 22.4, 26.6, 20.2, 17.6, 28.0, 27.0, 34.0, 31.0, 29.0, 27.0, 24.0, 36.0, 37.0, 31.0, 38.0, 36.0, 36.0, 36.0, 34.0, 38.0, 32.0, 38.0, 25.0, 38.0, 26.0, 22.0, 32.0, 36.0, 27.0, 27.0, 44.0, 32.0, 28.0, 31.0], \"x\": [130.0, 165.0, 150.0, 150.0, 140.0, 198.0, 220.0, 215.0, 225.0, 190.0, 170.0, 160.0, 150.0, 225.0, 95.0, 95.0, 97.0, 85.0, 88.0, 46.0, 87.0, 90.0, 95.0, 113.0, 90.0, 215.0, 200.0, 210.0, 193.0, 88.0, 90.0, 95.0, null, 100.0, 105.0, 100.0, 88.0, 100.0, 165.0, 175.0, 153.0, 150.0, 180.0, 170.0, 175.0, 110.0, 72.0, 100.0, 88.0, 86.0, 90.0, 70.0, 76.0, 65.0, 69.0, 60.0, 70.0, 95.0, 80.0, 54.0, 90.0, 86.0, 165.0, 175.0, 150.0, 153.0, 150.0, 208.0, 155.0, 160.0, 190.0, 97.0, 150.0, 130.0, 140.0, 150.0, 112.0, 76.0, 87.0, 69.0, 86.0, 92.0, 97.0, 80.0, 88.0, 175.0, 150.0, 145.0, 137.0, 150.0, 198.0, 150.0, 158.0, 150.0, 215.0, 225.0, 175.0, 105.0, 100.0, 100.0, 88.0, 95.0, 46.0, 150.0, 167.0, 170.0, 180.0, 100.0, 88.0, 72.0, 94.0, 90.0, 85.0, 107.0, 90.0, 145.0, 230.0, 49.0, 75.0, 91.0, 112.0, 150.0, 110.0, 122.0, 180.0, 95.0, null, 100.0, 100.0, 67.0, 80.0, 65.0, 75.0, 100.0, 110.0, 105.0, 140.0, 150.0, 150.0, 140.0, 150.0, 83.0, 67.0, 78.0, 52.0, 61.0, 75.0, 75.0, 75.0, 97.0, 93.0, 67.0, 95.0, 105.0, 72.0, 72.0, 170.0, 145.0, 150.0, 148.0, 110.0, 105.0, 110.0, 95.0, 110.0, 110.0, 129.0, 75.0, 83.0, 100.0, 78.0, 96.0, 71.0, 97.0, 97.0, 70.0, 90.0, 95.0, 88.0, 98.0, 115.0, 53.0, 86.0, 81.0, 92.0, 79.0, 83.0, 140.0, 150.0, 120.0, 152.0, 100.0, 105.0, 81.0, 90.0, 52.0, 60.0, 70.0, 53.0, 100.0, 78.0, 110.0, 95.0, 71.0, 70.0, 75.0, 72.0, 102.0, 150.0, 88.0, 108.0, 120.0, 180.0, 145.0, 130.0, 150.0, 68.0, 80.0, 58.0, 96.0, 70.0, 145.0, 110.0, 145.0, 130.0, 110.0, 105.0, 100.0, 98.0, 180.0, 170.0, 190.0, 149.0, 78.0, 88.0, 75.0, 89.0, 63.0, 83.0, 67.0, 78.0, 97.0, 110.0, 110.0, 48.0, 66.0, 52.0, 70.0, 60.0, 110.0, 140.0, 139.0, 105.0, 95.0, 85.0, 88.0, 100.0, 90.0, 105.0, 85.0, 110.0, 120.0, 145.0, 165.0, 139.0, 140.0, 68.0, 95.0, 97.0, 75.0, 95.0, 105.0, 85.0, 97.0, 103.0, 125.0, 115.0, 133.0, 71.0, 68.0, 115.0, 85.0, 88.0, 90.0, 110.0, 130.0, 129.0, 138.0, 135.0, 155.0, 142.0, 125.0, 150.0, 71.0, 65.0, 80.0, 80.0, 77.0, 125.0, 71.0, 90.0, 70.0, 70.0, 65.0, 69.0, 90.0, 115.0, 115.0, 90.0, 76.0, 60.0, 70.0, 65.0, 90.0, 88.0, 90.0, 90.0, 78.0, 90.0, 75.0, 92.0, 75.0, 65.0, 105.0, 65.0, 48.0, 48.0, 67.0, 67.0, 67.0, null, 67.0, 62.0, 132.0, 100.0, 88.0, null, 72.0, 84.0, 84.0, 92.0, 110.0, 84.0, 58.0, 64.0, 60.0, 67.0, 65.0, 62.0, 68.0, 63.0, 65.0, 65.0, 74.0, null, 75.0, 75.0, 100.0, 74.0, 80.0, 76.0, 116.0, 120.0, 110.0, 105.0, 88.0, 85.0, 88.0, 88.0, 88.0, 85.0, 84.0, 90.0, 92.0, 74.0, 68.0, 68.0, 63.0, 70.0, 88.0, 75.0, 70.0, 67.0, 67.0, 67.0, 110.0, 85.0, 92.0, 112.0, 96.0, 84.0, 90.0, 86.0, 52.0, 84.0, 79.0, 82.0], \"type\": \"scatter\", \"mode\": \"markers\"}], {}, {\"linkText\": \"Export to plot.ly\", \"showLink\": true})});</script>"
      ]
     },
     "metadata": {},
     "output_type": "display_data"
    }
   ],
   "source": [
    "df = auto_data\n",
    "traces = []\n",
    "traces.append(go.Scatter(x=df[\"horsepower\"], \n",
    "                         y=df[\"mpg\"], \n",
    "                         mode=\"markers\"))\n",
    "#layout = go.Layout(barmode='overlay', width=800, height=800)\n",
    "fig = go.Figure(data=traces)\n",
    "\n",
    "py.iplot(fig)"
   ]
  },
  {
   "cell_type": "code",
   "execution_count": 67,
   "metadata": {
    "ExecuteTime": {
     "end_time": "2018-02-25T07:31:02.260831Z",
     "start_time": "2018-02-25T07:31:02.024642Z"
    }
   },
   "outputs": [
    {
     "data": {
      "text/plain": [
       "Text(0.5,0.98,u'MPG Distribution')"
      ]
     },
     "execution_count": 67,
     "metadata": {},
     "output_type": "execute_result"
    },
    {
     "data": {
      "image/png": "[encoded data removed]",
      "text/plain": [
       "<matplotlib.figure.Figure at 0x108cdb8d0>"
      ]
     },
     "metadata": {},
     "output_type": "display_data"
    }
   ],
   "source": [
    "auto_data[\"mpg\"].hist()\n",
    "\n",
    "plt.gcf().suptitle(\"MPG Distribution\")"
   ]
  },
  {
   "cell_type": "code",
   "execution_count": 66,
   "metadata": {
    "ExecuteTime": {
     "end_time": "2018-02-25T07:30:42.742435Z",
     "start_time": "2018-02-25T07:30:42.504228Z"
    }
   },
   "outputs": [
    {
     "data": {
      "text/plain": [
       "Text(0.5,0.98,u'Horse Power Distribution')"
      ]
     },
     "execution_count": 66,
     "metadata": {},
     "output_type": "execute_result"
    },
    {
     "data": {
      "image/png": "[encoded data removed]",
      "text/plain": [
       "<matplotlib.figure.Figure at 0x1099b3290>"
      ]
     },
     "metadata": {},
     "output_type": "display_data"
    }
   ],
   "source": [
    "auto_data[\"horsepower\"].hist()\n",
    "plt.gcf().suptitle(\"Horse Power Distribution\")\n"
   ]
  },
  {
   "cell_type": "code",
   "execution_count": 75,
   "metadata": {
    "ExecuteTime": {
     "end_time": "2018-02-25T08:09:59.007216Z",
     "start_time": "2018-02-25T08:09:58.995103Z"
    },
    "scrolled": false
   },
   "outputs": [
    {
     "data": {
      "text/plain": [
       "mpg             float64\n",
       "cylinders         int64\n",
       "displacement    float64\n",
       "horsepower      float64\n",
       "weight            int64\n",
       "acceleration    float64\n",
       "year              int64\n",
       "origin            int64\n",
       "name             object\n",
       "horsepower^2    float64\n",
       "horsepower^3    float64\n",
       "dtype: object"
      ]
     },
     "execution_count": 75,
     "metadata": {},
     "output_type": "execute_result"
    }
   ],
   "source": [
    "auto_data.dtypes\n"
   ]
  },
  {
   "cell_type": "code",
   "execution_count": 98,
   "metadata": {
    "ExecuteTime": {
     "end_time": "2018-02-25T08:20:06.000975Z",
     "start_time": "2018-02-25T08:20:05.981717Z"
    }
   },
   "outputs": [
    {
     "data": {
      "text/plain": [
       "(79, 11)"
      ]
     },
     "metadata": {},
     "output_type": "display_data"
    },
    {
     "data": {
      "text/plain": [
       "(318, 11)"
      ]
     },
     "metadata": {},
     "output_type": "display_data"
    },
    {
     "data": {
      "text/plain": [
       "0.19899244332493704"
      ]
     },
     "execution_count": 98,
     "metadata": {},
     "output_type": "execute_result"
    }
   ],
   "source": [
    "\n",
    "\n"
   ]
  },
  {
   "cell_type": "code",
   "execution_count": 109,
   "metadata": {
    "ExecuteTime": {
     "end_time": "2018-02-25T08:30:26.366296Z",
     "start_time": "2018-02-25T08:30:26.321556Z"
    },
    "scrolled": false
   },
   "outputs": [
    {
     "data": {
      "text/html": [
       "<table class=\"simpletable\">\n",
       "<caption>OLS Regression Results</caption>\n",
       "<tr>\n",
       "  <th>Dep. Variable:</th>           <td>mpg</td>       <th>  R-squared:         </th> <td>   0.556</td>\n",
       "</tr>\n",
       "<tr>\n",
       "  <th>Model:</th>                   <td>OLS</td>       <th>  Adj. R-squared:    </th> <td>   0.551</td>\n",
       "</tr>\n",
       "<tr>\n",
       "  <th>Method:</th>             <td>Least Squares</td>  <th>  F-statistic:       </th> <td>   96.53</td>\n",
       "</tr>\n",
       "<tr>\n",
       "  <th>Date:</th>             <td>Sun, 25 Feb 2018</td> <th>  Prob (F-statistic):</th> <td>3.12e-15</td>\n",
       "</tr>\n",
       "<tr>\n",
       "  <th>Time:</th>                 <td>00:30:26</td>     <th>  Log-Likelihood:    </th> <td> -248.11</td>\n",
       "</tr>\n",
       "<tr>\n",
       "  <th>No. Observations:</th>      <td>    79</td>      <th>  AIC:               </th> <td>   500.2</td>\n",
       "</tr>\n",
       "<tr>\n",
       "  <th>Df Residuals:</th>          <td>    77</td>      <th>  BIC:               </th> <td>   505.0</td>\n",
       "</tr>\n",
       "<tr>\n",
       "  <th>Df Model:</th>              <td>     1</td>      <th>                     </th>     <td> </td>   \n",
       "</tr>\n",
       "<tr>\n",
       "  <th>Covariance Type:</th>      <td>nonrobust</td>    <th>                     </th>     <td> </td>   \n",
       "</tr>\n",
       "</table>\n",
       "<table class=\"simpletable\">\n",
       "<tr>\n",
       "       <td></td>         <th>coef</th>     <th>std err</th>      <th>t</th>      <th>P>|t|</th>  <th>[0.025</th>    <th>0.975]</th>  \n",
       "</tr>\n",
       "<tr>\n",
       "  <th>const</th>      <td>   40.0145</td> <td>    1.763</td> <td>   22.696</td> <td> 0.000</td> <td>   36.504</td> <td>   43.525</td>\n",
       "</tr>\n",
       "<tr>\n",
       "  <th>horsepower</th> <td>   -0.1560</td> <td>    0.016</td> <td>   -9.825</td> <td> 0.000</td> <td>   -0.188</td> <td>   -0.124</td>\n",
       "</tr>\n",
       "</table>\n",
       "<table class=\"simpletable\">\n",
       "<tr>\n",
       "  <th>Omnibus:</th>       <td> 3.833</td> <th>  Durbin-Watson:     </th> <td>   1.917</td>\n",
       "</tr>\n",
       "<tr>\n",
       "  <th>Prob(Omnibus):</th> <td> 0.147</td> <th>  Jarque-Bera (JB):  </th> <td>   3.741</td>\n",
       "</tr>\n",
       "<tr>\n",
       "  <th>Skew:</th>          <td> 0.524</td> <th>  Prob(JB):          </th> <td>   0.154</td>\n",
       "</tr>\n",
       "<tr>\n",
       "  <th>Kurtosis:</th>      <td> 2.807</td> <th>  Cond. No.          </th> <td>    307.</td>\n",
       "</tr>\n",
       "</table>"
      ],
      "text/plain": [
       "<class 'statsmodels.iolib.summary.Summary'>\n",
       "\"\"\"\n",
       "                            OLS Regression Results                            \n",
       "==============================================================================\n",
       "Dep. Variable:                    mpg   R-squared:                       0.556\n",
       "Model:                            OLS   Adj. R-squared:                  0.551\n",
       "Method:                 Least Squares   F-statistic:                     96.53\n",
       "Date:                Sun, 25 Feb 2018   Prob (F-statistic):           3.12e-15\n",
       "Time:                        00:30:26   Log-Likelihood:                -248.11\n",
       "No. Observations:                  79   AIC:                             500.2\n",
       "Df Residuals:                      77   BIC:                             505.0\n",
       "Df Model:                           1                                         \n",
       "Covariance Type:            nonrobust                                         \n",
       "==============================================================================\n",
       "                 coef    std err          t      P>|t|      [0.025      0.975]\n",
       "------------------------------------------------------------------------------\n",
       "const         40.0145      1.763     22.696      0.000      36.504      43.525\n",
       "horsepower    -0.1560      0.016     -9.825      0.000      -0.188      -0.124\n",
       "==============================================================================\n",
       "Omnibus:                        3.833   Durbin-Watson:                   1.917\n",
       "Prob(Omnibus):                  0.147   Jarque-Bera (JB):                3.741\n",
       "Skew:                           0.524   Prob(JB):                        0.154\n",
       "Kurtosis:                       2.807   Cond. No.                         307.\n",
       "==============================================================================\n",
       "\n",
       "Warnings:\n",
       "[1] Standard Errors assume that the covariance matrix of the errors is correctly specified.\n",
       "\"\"\""
      ]
     },
     "metadata": {},
     "output_type": "display_data"
    },
    {
     "data": {
      "text/plain": [
       "'MAPE is 22.8040%'"
      ]
     },
     "metadata": {},
     "output_type": "display_data"
    },
    {
     "data": {
      "text/plain": [
       "'MAPE is 17.6915%'"
      ]
     },
     "metadata": {},
     "output_type": "display_data"
    }
   ],
   "source": [
    "data = auto_data\n",
    "train, test = train_test_split(data,test_size=0.8)\n",
    "\n",
    "X = train.fillna(0)[\"horsepower\"]\n",
    "y = train[\"mpg\"]\n",
    "X = sm.add_constant(X)\n",
    "# Note the difference in argument order\n",
    "sm_model = sm.OLS(y,X).fit()\n",
    "\n",
    "# make the predictions by the model\n",
    "in_sample_preds = sm_model.predict(X) \n",
    "\n",
    "# print out the statistics\n",
    "display(sm_model.summary())\n",
    "#display(sm_model.conf_int(alpha=0.05))\n",
    "display(print_mape(in_sample_preds, y))\n",
    "X = test.fillna(0)[\"horsepower\"]\n",
    "X = sm.add_constant(X)\n",
    "out_of_sample_preds = sm_model.predict(X) \n",
    "y = test[\"mpg\"]\n",
    "display(print_mape(out_of_sample_preds, y))"
   ]
  },
  {
   "cell_type": "code",
   "execution_count": 149,
   "metadata": {
    "ExecuteTime": {
     "end_time": "2018-02-25T08:59:19.255578Z",
     "start_time": "2018-02-25T08:59:19.245898Z"
    },
    "scrolled": false
   },
   "outputs": [
    {
     "name": "stdout",
     "output_type": "stream",
     "text": [
      "('TRAIN:', array([1]), 'TEST:', array([0]))\n",
      "(array([[3, 4]]), array([[1, 2]]), array([2]), array([1]))\n",
      "('TRAIN:', array([0]), 'TEST:', array([1]))\n",
      "(array([[1, 2]]), array([[3, 4]]), array([1]), array([2]))\n"
     ]
    }
   ],
   "source": [
    "from sklearn.model_selection import LeaveOneOut \n",
    "X = np.array([[1, 2], [3, 4]])\n",
    "y = np.array([1, 2])\n",
    "loo = LeaveOneOut()\n",
    "loo.get_n_splits(X)\n",
    "\n",
    "\n",
    "for train_index, test_index in loo.split(X):\n",
    "   print(\"TRAIN:\", train_index, \"TEST:\", test_index)\n",
    "   X_train, X_test = X[train_index], X[test_index]\n",
    "   y_train, y_test = y[train_index], y[test_index]\n",
    "   print(X_train, X_test, y_train, y_test)"
   ]
  },
  {
   "cell_type": "code",
   "execution_count": 148,
   "metadata": {
    "ExecuteTime": {
     "end_time": "2018-02-25T08:59:17.431299Z",
     "start_time": "2018-02-25T08:59:17.421735Z"
    }
   },
   "outputs": [
    {
     "data": {
      "text/plain": [
       "(397, 11)"
      ]
     },
     "execution_count": 148,
     "metadata": {},
     "output_type": "execute_result"
    }
   ],
   "source": [
    "auto_data.shape"
   ]
  },
  {
   "cell_type": "code",
   "execution_count": 159,
   "metadata": {
    "ExecuteTime": {
     "end_time": "2018-02-25T09:09:03.387960Z",
     "start_time": "2018-02-25T09:08:59.661296Z"
    },
    "scrolled": false
   },
   "outputs": [
    {
     "data": {
      "application/vnd.plotly.v1+json": {
       "data": [
        {
         "mode": "markers",
         "opacity": 1,
         "type": "scatter",
         "x": [
          0.18543701854671368,
          0.18577833767837026,
          0.18409617605906362,
          0.1855532872687315,
          0.18473556469171795
         ],
         "y": [
          0.36147474944581365,
          0.46471638754848543,
          0.053054070168516536,
          0.39765657293564466,
          0.11460189331422041
         ]
        }
       ],
       "layout": {
        "barmode": "overlay",
        "height": 800,
        "width": 800
       }
      },
      "text/html": [
       "<div id=\"ecca50d3-a360-467d-bd59-569a2fdb5403\" style=\"height: 800px; width: 800px;\" class=\"plotly-graph-div\"></div><script type=\"text/javascript\">require([\"plotly\"], function(Plotly) { window.PLOTLYENV=window.PLOTLYENV || {};window.PLOTLYENV.BASE_URL=\"https://plot.ly\";Plotly.newPlot(\"ecca50d3-a360-467d-bd59-569a2fdb5403\", [{\"opacity\": 1, \"y\": [0.36147474944581365, 0.46471638754848543, 0.053054070168516536, 0.39765657293564466, 0.11460189331422041], \"type\": \"scatter\", \"mode\": \"markers\", \"x\": [0.18543701854671368, 0.18577833767837026, 0.18409617605906362, 0.1855532872687315, 0.18473556469171795]}], {\"width\": 800, \"barmode\": \"overlay\", \"height\": 800}, {\"linkText\": \"Export to plot.ly\", \"showLink\": true})});</script>"
      ],
      "text/vnd.plotly.v1+html": [
       "<div id=\"ecca50d3-a360-467d-bd59-569a2fdb5403\" style=\"height: 800px; width: 800px;\" class=\"plotly-graph-div\"></div><script type=\"text/javascript\">require([\"plotly\"], function(Plotly) { window.PLOTLYENV=window.PLOTLYENV || {};window.PLOTLYENV.BASE_URL=\"https://plot.ly\";Plotly.newPlot(\"ecca50d3-a360-467d-bd59-569a2fdb5403\", [{\"opacity\": 1, \"y\": [0.36147474944581365, 0.46471638754848543, 0.053054070168516536, 0.39765657293564466, 0.11460189331422041], \"type\": \"scatter\", \"mode\": \"markers\", \"x\": [0.18543701854671368, 0.18577833767837026, 0.18409617605906362, 0.1855532872687315, 0.18473556469171795]}], {\"width\": 800, \"barmode\": \"overlay\", \"height\": 800}, {\"linkText\": \"Export to plot.ly\", \"showLink\": true})});</script>"
      ]
     },
     "metadata": {},
     "output_type": "display_data"
    }
   ],
   "source": [
    "data = auto_data\n",
    "X = auto_data.fillna(0)[\"horsepower\"]\n",
    "y = auto_data[\"mpg\"]\n",
    "\n",
    "in_sample_err = []\n",
    "oo_sample_err = []\n",
    "\n",
    "for train_index, test_index in loo.split(X):\n",
    "    #print(np.count_nonzero(train_index), np.count_nonzero(test_index))\n",
    "    X_train, X_test = X[train_index], X[test_index]\n",
    "    y_train, y_test = y.fillna(0)[train_index], y.fillna(0)[test_index]\n",
    "    X_train = sm.add_constant(X_train)\n",
    "    sm_model = sm.OLS(y_train,X_train).fit()\n",
    "\n",
    "    # make the predictions by the model\n",
    "    in_sample_preds = sm_model.predict(X_train) \n",
    "    \n",
    "    try:\n",
    "        X_test = sm.add_constant(X_test)\n",
    "        oo_sample_preds = sm_model.predict(X_test) \n",
    "        \n",
    "    except Exception as e:\n",
    "        #print(e)\n",
    "        continue\n",
    "    in_sample_err.append(get_mape(in_sample_preds, y_train))\n",
    "    oo_sample_err.append(get_mape(oo_sample_preds, y_test))\n",
    "    #print(\"Te\",print_mape(oo_sample_preds, y_train))\n",
    "    \n",
    "traces = []\n",
    "traces.append(go.Scatter(x=in_sample_err, y=oo_sample_err, opacity=1, mode=\"markers\"))\n",
    "\n",
    "layout = go.Layout(barmode='overlay', width=800, height=800)\n",
    "fig = go.Figure(data=traces, layout=layout)\n",
    "\n",
    "py.iplot(fig)"
   ]
  },
  {
   "cell_type": "code",
   "execution_count": 160,
   "metadata": {
    "ExecuteTime": {
     "end_time": "2018-02-25T09:09:09.551813Z",
     "start_time": "2018-02-25T09:09:03.393277Z"
    }
   },
   "outputs": [
    {
     "name": "stdout",
     "output_type": "stream",
     "text": [
      "Accuracy: 76.823% (42.196%)\n"
     ]
    }
   ],
   "source": [
    "import pandas\n",
    "from sklearn import model_selection\n",
    "from sklearn.linear_model import LogisticRegression, LinearRegression\n",
    "url = \"https://archive.ics.uci.edu/ml/machine-learning-databases/pima-indians-diabetes/pima-indians-diabetes.data\"\n",
    "names = ['preg', 'plas', 'pres', 'skin', 'test', 'mass', 'pedi', 'age', 'class']\n",
    "dataframe = pandas.read_csv(url, names=names)b\n",
    "array = dataframe.values\n",
    "X = array[:,0:8]\n",
    "Y = array[:,8]\n",
    "num_folds = 10\n",
    "num_instances = len(X)\n",
    "loocv = model_selection.LeaveOneOut()\n",
    "model = LogisticRegression()\n",
    "results = model_selection.cross_val_score(model, X, Y, cv=loocv)\n",
    "print(\"Accuracy: %.3f%% (%.3f%%)\" % (results.mean()*100.0, results.std()*100.0))"
   ]
  },
  {
   "cell_type": "code",
   "execution_count": 165,
   "metadata": {
    "ExecuteTime": {
     "end_time": "2018-02-25T09:12:16.893861Z",
     "start_time": "2018-02-25T09:12:16.888796Z"
    }
   },
   "outputs": [
    {
     "name": "stdout",
     "output_type": "stream",
     "text": [
      "((768, 8), (768,))\n"
     ]
    }
   ],
   "source": [
    "print(X.shape, Y.shape)"
   ]
  },
  {
   "cell_type": "code",
   "execution_count": 171,
   "metadata": {
    "ExecuteTime": {
     "end_time": "2018-02-25T09:15:31.673084Z",
     "start_time": "2018-02-25T09:15:30.837418Z"
    },
    "scrolled": false
   },
   "outputs": [
    {
     "name": "stdout",
     "output_type": "stream",
     "text": [
      "Accuracy: 0.000% (0.000%)\n"
     ]
    }
   ],
   "source": [
    "from sklearn.linear_model import LogisticRegression, LinearRegression\n",
    "X = auto_data.fillna(0)[\"horsepower\"]\n",
    "y = auto_data[\"mpg\"]\n",
    "X = sm.add_constant(X)\n",
    "model = LinearRegression()\n",
    "results = model_selection.cross_val_score(model, X, y, cv=loocv)\n",
    "print(\"Accuracy: %.3f%% (%.3f%%)\" % (results.mean()*100.0, results.std()*100.0))"
   ]
  },
  {
   "cell_type": "code",
   "execution_count": 175,
   "metadata": {
    "ExecuteTime": {
     "end_time": "2018-02-25T09:32:57.022511Z",
     "start_time": "2018-02-25T09:32:57.017610Z"
    }
   },
   "outputs": [],
   "source": [
    "from sklearn.utils import resample"
   ]
  },
  {
   "cell_type": "code",
   "execution_count": 174,
   "metadata": {
    "ExecuteTime": {
     "end_time": "2018-02-25T09:26:25.935391Z",
     "start_time": "2018-02-25T09:26:25.928360Z"
    }
   },
   "outputs": [],
   "source": [
    "portfolio = pd.read_csv(\"../data/Portfolio.csv\")"
   ]
  },
  {
   "cell_type": "code",
   "execution_count": null,
   "metadata": {
    "ExecuteTime": {
     "end_time": "2018-02-25T09:47:26.475968Z",
     "start_time": "2018-02-25T09:47:26.466730Z"
    }
   },
   "outputs": [],
   "source": []
  },
  {
   "cell_type": "code",
   "execution_count": 192,
   "metadata": {
    "ExecuteTime": {
     "end_time": "2018-02-25T09:46:41.738812Z",
     "start_time": "2018-02-25T09:46:41.725480Z"
    },
    "scrolled": false
   },
   "outputs": [
    {
     "name": "stdout",
     "output_type": "stream",
     "text": [
      "(10000,)\n",
      "original mean: -0.077132108211121 1.0570505827711292\n",
      "resampled mean: -0.07113277891426009 1.063051459589694\n"
     ]
    }
   ],
   "source": [
    "def bootstrap_resample(X, n=None):\n",
    "    \"\"\" Bootstrap resample an array_like\n",
    "    Parameters\n",
    "    ----------\n",
    "    X : array_like\n",
    "      data to resample\n",
    "    n : int, optional\n",
    "      length of resampled array, equal to len(X) if n==None\n",
    "    Results\n",
    "    -------\n",
    "    returns X_resamples\n",
    "    \"\"\"\n",
    "    if n == None:\n",
    "        n = len(X)\n",
    "        \n",
    "    resample_i = np.floor(np.random.rand(n)*len(X)).astype(int)\n",
    "    print(resample_i.shape)\n",
    "    \n",
    "    X_resample = X[resample_i]\n",
    "    return X_resample\n",
    "X = portfolio[\"X\"].values\n",
    "X_resample = bootstrap_resample(X, n=10000)\n",
    "\n",
    "print 'original mean:', X.mean(), np.std(X)\n",
    "print 'resampled mean:', X_resample.mean(), X_resample.std()"
   ]
  },
  {
   "cell_type": "markdown",
   "metadata": {},
   "source": [
    "# Linear Model Selection and Regularization"
   ]
  },
  {
   "cell_type": "markdown",
   "metadata": {},
   "source": [
    "# Moving Beyond Linearity"
   ]
  },
  {
   "cell_type": "markdown",
   "metadata": {},
   "source": [
    "# Tree-based methods"
   ]
  },
  {
   "cell_type": "markdown",
   "metadata": {},
   "source": [
    "# Support Vector Machines"
   ]
  },
  {
   "cell_type": "markdown",
   "metadata": {},
   "source": [
    "# Unsupervised Learning"
   ]
  },
  {
   "cell_type": "code",
   "execution_count": null,
   "metadata": {},
   "outputs": [],
   "source": []
  }
 ],
 "metadata": {
  "hide_input": false,
  "kernelspec": {
   "display_name": "Python 2",
   "language": "python",
   "name": "python2"
  },
  "language_info": {
   "codemirror_mode": {
    "name": "ipython",
    "version": 2
   },
   "file_extension": ".py",
   "mimetype": "text/x-python",
   "name": "python",
   "nbconvert_exporter": "python",
   "pygments_lexer": "ipython2",
   "version": "2.7.14"
  },
  "toc": {
   "nav_menu": {},
   "number_sections": true,
   "sideBar": true,
   "skip_h1_title": false,
   "title_cell": "Table of Contents",
   "title_sidebar": "Contents",
   "toc_cell": false,
   "toc_position": {},
   "toc_section_display": true,
   "toc_window_display": false
  }
 },
 "nbformat": 4,
 "nbformat_minor": 2
}
